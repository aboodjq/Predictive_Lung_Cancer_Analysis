{
  "nbformat": 4,
  "nbformat_minor": 0,
  "metadata": {
    "colab": {
      "provenance": []
    },
    "kernelspec": {
      "name": "python3",
      "display_name": "Python 3"
    },
    "language_info": {
      "name": "python"
    }
  },
  "cells": [
    {
      "cell_type": "code",
      "execution_count": null,
      "metadata": {
        "id": "-K4X23Dr4eRu"
      },
      "outputs": [],
      "source": [
        "import pandas as pd\n",
        "import matplotlib.pyplot as plt\n",
        "import seaborn as sns\n",
        "from sklearn.model_selection import train_test_split, KFold, cross_val_score\n",
        "from sklearn.metrics import accuracy_score, classification_report, f1_score, precision_score, recall_score\n",
        "from sklearn.linear_model import LogisticRegression\n",
        "from sklearn.tree import DecisionTreeClassifier\n",
        "from sklearn.ensemble import RandomForestClassifier\n",
        "from imblearn.over_sampling import SMOTE"
      ]
    },
    {
      "cell_type": "code",
      "source": [
        "\n",
        "data_small = pd.read_csv('dataset small.csv')\n",
        "\n",
        "data_small['GENDER'] = data_small['GENDER'].map({'M': 0, 'F': 1})\n",
        "\n",
        "data_small['LUNG_CANCER'] = data_small['LUNG_CANCER'].map({'NO': 0, 'YES': 1})\n",
        "binary_columns = ['SMOKING', 'YELLOW_FINGERS', 'ANXIETY', 'PEER_PRESSURE', 'CHRONIC_DISEASE', 'FATIGUE',\n",
        "                  'ALLERGY', 'WHEEZING', 'ALCOHOL_CONSUMING', 'COUGHING', 'SHORTNESS_OF_BREATH', 'SWALLOWING_DIFFICULTY',\n",
        "                  'CHEST_PAIN']\n",
        "\n",
        "\n",
        "for column in binary_columns:\n",
        "    data_small[column] = data_small[column].map({1: 0, 2: 1})"
      ],
      "metadata": {
        "id": "BfWoJS_m59ms"
      },
      "execution_count": null,
      "outputs": []
    },
    {
      "cell_type": "code",
      "source": [
        "X = data_small.drop('LUNG_CANCER', axis=1)\n",
        "y = data_small['LUNG_CANCER']\n",
        "smote = SMOTE(random_state=42)\n",
        "X_resampled, y_resampled = smote.fit_resample(X, y)\n",
        "X_train, X_test, y_train, y_test = train_test_split(X_resampled, y_resampled, test_size=0.2, random_state=42)\n"
      ],
      "metadata": {
        "collapsed": true,
        "id": "Bjc735CV9TZ8"
      },
      "execution_count": null,
      "outputs": []
    },
    {
      "cell_type": "code",
      "source": [
        "fig, axes = plt.subplots(1, 2, figsize=(12, 6))\n",
        "\n",
        "# Before SMOTE\n",
        "sns.countplot(x=y, ax=axes[0])\n",
        "axes[0].set_title('Class Distribution Before SMOTE')\n",
        "\n",
        "# After SMOTE\n",
        "sns.countplot(x=y_resampled, ax=axes[1])\n",
        "axes[1].set_title('Class Distribution After SMOTE')\n",
        "\n",
        "plt.show()"
      ],
      "metadata": {
        "id": "9BjQB_FO9X77",
        "colab": {
          "base_uri": "https://localhost:8080/",
          "height": 564
        },
        "outputId": "7769f50b-22e7-499a-d4de-91ab2a3b9425"
      },
      "execution_count": null,
      "outputs": [
        {
          "output_type": "display_data",
          "data": {
            "text/plain": [
              "<Figure size 1200x600 with 2 Axes>"
            ],
            "image/png": "[encoded data removed]"
          },
          "metadata": {}
        }
      ]
    },
    {
      "cell_type": "code",
      "source": [
        "X_train, X_test, y_train, y_test = train_test_split(X_resampled, y_resampled, test_size=0.2, random_state=42)\n",
        "models = {\n",
        "    'Logistic Regression': LogisticRegression(max_iter=165),\n",
        "    'Decision Tree': DecisionTreeClassifier(),\n",
        "    'Random Forest': RandomForestClassifier(),\n",
        "}\n"
      ],
      "metadata": {
        "id": "zegfHNnK-i6N"
      },
      "execution_count": null,
      "outputs": []
    },
    {
      "cell_type": "code",
      "source": [
        "kf = KFold(n_splits=10, shuffle=True, random_state=42)\n",
        "model_results = []"
      ],
      "metadata": {
        "id": "MxWz2vhHk1qJ"
      },
      "execution_count": null,
      "outputs": []
    },
    {
      "cell_type": "code",
      "source": [
        "for model_name, model in models.items():\n",
        "    cv_results = cross_val_score(model, X_train, y_train, cv=kf, scoring='accuracy')\n",
        "    model.fit(X_train, y_train)\n",
        "    y_pred = model.predict(X_test)\n",
        "\n",
        "    # Collect and display results\n",
        "    mean_cv_accuracy = cv_results.mean()\n",
        "    std_cv_accuracy = cv_results.std()\n",
        "    test_accuracy = accuracy_score(y_test, y_pred)\n",
        "    f1 = f1_score(y_test, y_pred)\n",
        "\n",
        "    model_results.append({\n",
        "        'Model': model_name,\n",
        "        'Mean CV Accuracy': f\"{mean_cv_accuracy:.4f}\",\n",
        "        'Std CV Accuracy': f\"{std_cv_accuracy:.4f}\",\n",
        "        'Test Accuracy': f\"{test_accuracy:.4f}\",\n",
        "        'F1 Score': f\"{f1:.4f}\"\n",
        "    })"
      ],
      "metadata": {
        "id": "cRirpQNC-5gS"
      },
      "execution_count": null,
      "outputs": []
    },
    {
      "cell_type": "code",
      "source": [
        "results_df = pd.DataFrame(model_results)\n",
        "print(results_df)"
      ],
      "metadata": {
        "colab": {
          "base_uri": "https://localhost:8080/"
        },
        "id": "eNwPmUzX-7-X",
        "outputId": "1751a223-85b7-491a-8c6e-ab32f6a17834"
      },
      "execution_count": null,
      "outputs": [
        {
          "output_type": "stream",
          "name": "stdout",
          "text": [
            "                 Model Mean CV Accuracy Std CV Accuracy Test Accuracy F1 Score\n",
            "0  Logistic Regression           0.9655          0.0328        0.9537   0.9573\n",
            "1        Decision Tree           0.9216          0.0491        0.9444   0.9483\n",
            "2        Random Forest           0.9585          0.0266        0.9537   0.9573\n"
          ]
        }
      ]
    },
    {
      "cell_type": "code",
      "source": [],
      "metadata": {
        "id": "xzqmbH9k25rf"
      },
      "execution_count": null,
      "outputs": []
    }
  ]
}